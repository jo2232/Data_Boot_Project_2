{
 "cells": [
  {
   "cell_type": "code",
   "execution_count": 16,
   "metadata": {
    "collapsed": true
   },
   "outputs": [],
   "source": [
    "import time\n",
    "from splinter import Browser\n",
    "from bs4 import BeautifulSoup\n",
    "from selenium import webdriver\n",
    "from sys import platform\n",
    "import requests\n",
    "\n",
    "\n",
    "# In[2]:\n",
    "\n",
    "def scrape_it():\n",
    "    def init_browser():\n",
    "        if platform == \"darwin\":\n",
    "            executable_path = {\"executable_path\": \"/usr/local/bin/chromedriver\"}\n",
    "        else:\n",
    "            executable_path = {'executable_path': 'chromedriver.exe'}\n",
    "        return Browser(\"chrome\", **executable_path, headless=False)\n",
    "\n",
    "\n",
    "    # In[21]:\n",
    "\n",
    "\n",
    "\n",
    "        \n",
    "    article_list = []\n",
    "\n",
    "\n",
    "    url = 'https://www.cnn.com/'\n",
    "    response = requests.get(url)\n",
    "    soup = BeautifulSoup(response.text, 'html.parser') \n",
    "\n",
    "    input_field = soup.find('#searchInputFooter')\n",
    "#     input_field[0].fill('dallas')\n",
    "#     search_button = soup.find_by_xpath('/html/body/footer/div[1]/div[2]/form/button').first\n",
    "#     search_button.click()\n",
    "#     time.sleep(7)\n",
    "\n",
    "#     html = soup.html\n",
    "#     # create soup object from html\n",
    "#     article_soup = BeautifulSoup(html, \"html.parser\")\n",
    "#     articles = article_soup.find_all(class_=\"cnn-search__result--article\")\n",
    "#     for headline in articles:\n",
    "#         title = headline.find(\"h3\", class_=\"cnn-search__result-headline\")\n",
    "#         link = title.find(\"a\")\n",
    "#         article_list.append(link)\n",
    "        \n",
    "#     links = [a.get('href') for a in article_list]\n",
    "#     article_headlines = [b.get_text() for b in article_list]\n",
    "    \n",
    "#     cnn_data = dict(zip(article_headlines, links))\n",
    "\n",
    "    \n",
    "    \n",
    "    return input_field\n",
    "# cnn_data"
   ]
  },
  {
   "cell_type": "code",
   "execution_count": 17,
   "metadata": {},
   "outputs": [],
   "source": [
    "scrape_it()"
   ]
  },
  {
   "cell_type": "code",
   "execution_count": 13,
   "metadata": {},
   "outputs": [
    {
     "ename": "NameError",
     "evalue": "name 'input_field' is not defined",
     "output_type": "error",
     "traceback": [
      "\u001b[1;31m---------------------------------------------------------------------------\u001b[0m",
      "\u001b[1;31mNameError\u001b[0m                                 Traceback (most recent call last)",
      "\u001b[1;32m<ipython-input-13-b268918dfd2e>\u001b[0m in \u001b[0;36m<module>\u001b[1;34m()\u001b[0m\n\u001b[1;32m----> 1\u001b[1;33m \u001b[0minput_field\u001b[0m\u001b[1;33m\u001b[0m\u001b[0m\n\u001b[0m",
      "\u001b[1;31mNameError\u001b[0m: name 'input_field' is not defined"
     ]
    }
   ],
   "source": []
  },
  {
   "cell_type": "code",
   "execution_count": null,
   "metadata": {
    "collapsed": true
   },
   "outputs": [],
   "source": []
  }
 ],
 "metadata": {
  "kernelspec": {
   "display_name": "Python 3",
   "language": "python",
   "name": "python3"
  },
  "language_info": {
   "codemirror_mode": {
    "name": "ipython",
    "version": 3
   },
   "file_extension": ".py",
   "mimetype": "text/x-python",
   "name": "python",
   "nbconvert_exporter": "python",
   "pygments_lexer": "ipython3",
   "version": "3.6.3"
  }
 },
 "nbformat": 4,
 "nbformat_minor": 2
}
