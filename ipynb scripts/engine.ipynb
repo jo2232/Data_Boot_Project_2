{
 "cells": [
  {
   "cell_type": "code",
   "execution_count": 2,
   "metadata": {
    "collapsed": true
   },
   "outputs": [],
   "source": [
    "# Tweepy Machine"
   ]
  },
  {
   "cell_type": "code",
   "execution_count": 3,
   "metadata": {
    "collapsed": true
   },
   "outputs": [],
   "source": [
    "# Dependencies\n",
    "import numpy as np\n",
    "import pandas as pd\n",
    "import matplotlib.pyplot as plt\n",
    "import json\n",
    "import tweepy\n",
    "import time\n",
    "import os\n",
    "\n",
    "from vaderSentiment.vaderSentiment import SentimentIntensityAnalyzer\n",
    "analyzer = SentimentIntensityAnalyzer()"
   ]
  },
  {
   "cell_type": "code",
   "execution_count": 4,
   "metadata": {
    "collapsed": true
   },
   "outputs": [],
   "source": [
    "# Loading Keys\n",
    "api_dir = os.path.dirname(os.path.dirname(os.path.dirname(os.path.dirname(os.path.realpath('__file__')))))\n",
    "file_name = os.path.join(api_dir, \"api_keys.json\")\n",
    "data = json.load(open(file_name))\n",
    "\n",
    "# Setting Keys\n",
    "consumer_key = data['twitter_consumer_key']\n",
    "consumer_secret = data['twitter_consumer_secret']\n",
    "access_token = data['twitter_access_token']\n",
    "access_token_secret = data['twitter_access_token_secret']"
   ]
  },
  {
   "cell_type": "code",
   "execution_count": 5,
   "metadata": {
    "collapsed": true
   },
   "outputs": [],
   "source": [
    "# Setting up Auth\n",
    "auth = tweepy.OAuthHandler(consumer_key, consumer_secret)\n",
    "auth.set_access_token(access_token, access_token_secret)\n",
    "api = tweepy.API(auth, parser=tweepy.parsers.JSONParser())"
   ]
  },
  {
   "cell_type": "code",
   "execution_count": 6,
   "metadata": {
    "collapsed": true
   },
   "outputs": [],
   "source": [
    "# Runs Vader Analysis on Tweets based on a tag passed in\n",
    "def runVader(target_tag):\n",
    "    \n",
    "    # Setting variables\n",
    "    compound_list = []\n",
    "    positive_list = []\n",
    "    negative_list = []\n",
    "    neutral_list = []\n",
    "    date_list = []\n",
    "    tweet_text_list = []\n",
    "    \n",
    "    # Loop through pages based on total count (20 tweets per page)\n",
    "    for x in range(int(tweet_analyze_count/20)):\n",
    "\n",
    "        # Get all tweets from home feed  --  Page=x was giving double 1st page results\n",
    "        public_tweets = api.user_timeline(target_tag, page=x+1)\n",
    "\n",
    "        # Loop through all tweets \n",
    "        for tweet in public_tweets:\n",
    "            \n",
    "            # Run Vader Analysis on each tweet and add values to the appropriate arrays\n",
    "            compound_list.append(analyzer.polarity_scores(tweet[\"text\"])[\"compound\"])\n",
    "            positive_list.append(analyzer.polarity_scores(tweet[\"text\"])[\"pos\"])\n",
    "            negative_list.append(analyzer.polarity_scores(tweet[\"text\"])[\"neg\"])\n",
    "            neutral_list.append(analyzer.polarity_scores(tweet[\"text\"])[\"neu\"])\n",
    "            date_list.append(tweet[\"created_at\"])\n",
    "            tweet_text_list.append(tweet[\"text\"])\n",
    "            \n",
    "    # Pushing results to a dict       \n",
    "    sentiment = {\n",
    "                \"Date\": date_list,\n",
    "                \"Compound\": compound_list,\n",
    "                \"Positive\": positive_list,\n",
    "                \"Neutral\": negative_list,\n",
    "                \"Negative\": neutral_list,\n",
    "                \"Text\": tweet_text_list\n",
    "    }\n",
    "    \n",
    "    # Creating a DF for results\n",
    "    result = pd.DataFrame(sentiment)\n",
    "    \n",
    "    # Optional - Prints progress of API Calls\n",
    "    #print('--------------------------------------------------------')\n",
    "    #print(f'Processing Twitter handle: {target_tag}')\n",
    "    #print('--------------------------------------------------------')\n",
    "    \n",
    "    # Returning a DF of the results\n",
    "    return(result)"
   ]
  },
  {
   "cell_type": "code",
   "execution_count": 7,
   "metadata": {
    "collapsed": true
   },
   "outputs": [],
   "source": [
    "# Setting up function to call so sleep can be put inside a wait loop on a timer\n",
    "def runTweeter(bot_acc):\n",
    "    \n",
    "    # Grabbing only most recent tweet - No queueing system\n",
    "    mentions = api.home_timeline(count=1)\n",
    "    \n",
    "    # Clearing target tag\n",
    "    target_tag = \"\"\n",
    "\n",
    "    # Creating a try \"loop\" to check if the most recent status is valid\n",
    "    try:\n",
    "        target_tag = mentions[0]['entities']['user_mentions'][1]['screen_name']\n",
    "        \n",
    "    # Reseting target_tag if it fails\n",
    "    except:\n",
    "        target_tag = \"\"\n",
    "\n",
    "    # Starting IF block to grab rest of info if needed\n",
    "    if (mentions[0]['text'] == f'{bot_acc} Analyze: @{target_tag}'):\n",
    "\n",
    "        # Grab who requested for tweet-back\n",
    "        req_user = mentions[0]['user']['screen_name']\n",
    "\n",
    "        # Optional - Confirm target_account\n",
    "        #print(\"Target Account: \" + target_tag)\n",
    "        #print(\"Requesting User: \" + req_user)\n",
    "\n",
    "    # Return both users\n",
    "    return(target_tag, req_user)   "
   ]
  },
  {
   "cell_type": "code",
   "execution_count": null,
   "metadata": {
    "collapsed": true
   },
   "outputs": [],
   "source": []
  },
  {
   "cell_type": "code",
   "execution_count": null,
   "metadata": {
    "collapsed": true
   },
   "outputs": [],
   "source": []
  }
 ],
 "metadata": {
  "kernelspec": {
   "display_name": "Python 3",
   "language": "python",
   "name": "python3"
  },
  "language_info": {
   "codemirror_mode": {
    "name": "ipython",
    "version": 3
   },
   "file_extension": ".py",
   "mimetype": "text/x-python",
   "name": "python",
   "nbconvert_exporter": "python",
   "pygments_lexer": "ipython3",
   "version": "3.6.3"
  }
 },
 "nbformat": 4,
 "nbformat_minor": 2
}
