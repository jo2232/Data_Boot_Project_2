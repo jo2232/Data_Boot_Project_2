{
 "cells": [
  {
   "cell_type": "code",
   "execution_count": 1,
   "metadata": {
    "collapsed": true
   },
   "outputs": [],
   "source": [
    "# Dependencies\n",
    "import json\n",
    "import time\n",
    "import os\n",
    "import requests\n",
    "import twitter\n",
    "import numpy as np\n",
    "\n",
    "from vaderSentiment.vaderSentiment import SentimentIntensityAnalyzer\n",
    "analyzer = SentimentIntensityAnalyzer()"
   ]
  },
  {
   "cell_type": "code",
   "execution_count": 2,
   "metadata": {
    "collapsed": true
   },
   "outputs": [],
   "source": [
    "# Setting Keys\n",
    "consumer_key = 'SZuyqX69qC9kH9juCBquOuA45'\n",
    "consumer_secret = 'sb93EajIYsEY0t1iA7Vpl9brgweYVxdiYjIhUPgeOgZdJuuBoq'\n",
    "access_token = '955959610543833089-D7tNeGFMdMPtNVBBlJCZvOL2H1Kb4sp'\n",
    "access_token_secret = 't6aGaAqbbY1C6nLAKDENl3NiqFu1RHjNtCmoXbBSFfkFN'\n",
    "\n",
    "# Setting up Auth\n",
    "api = twitter.Api(consumer_key=consumer_key,\n",
    "                consumer_secret=consumer_secret,\n",
    "                access_token_key=access_token,\n",
    "                access_token_secret=access_token_secret)"
   ]
  },
  {
   "cell_type": "code",
   "execution_count": 3,
   "metadata": {
    "collapsed": true
   },
   "outputs": [],
   "source": [
    "# Tweet Gather function\n",
    "def tweetGrab(city, city_dict, start_time):\n",
    "\n",
    "    # Call to API - each new call should return new tweets and count against rate-limit\n",
    "    tweets = api.GetSearch(geocode=[city_dict[f'{city}']['gps'][1],city_dict[f'{city}']['gps'][0], '20mi'],return_json=True)\n",
    "\n",
    "    # Loop to parse tweet and append data needed\n",
    "    for tweet in tweets['statuses']:\n",
    "\n",
    "        # Appending important data\n",
    "        city_dict[f'{city}']['data']['text'].append(tweet['text'])\n",
    "        city_dict[f'{city}']['data']['bounding_box'].append(solveBox(tweet['place']['bounding_box']['coordinates']))\n",
    "        city_dict[f'{city}']['data']['user'].append(tweet['user']['screen_name'])\n",
    "        city_dict[f'{city}']['data']['created_at'].append(tweet['created_at'])\n",
    "        city_dict[f'{city}']['data']['followers_count'].append(tweet['user']['followers_count'])\n",
    "        city_dict[f'{city}']['data']['comp_sent'].append(analyzer.polarity_scores(tweet['text'])['compound'])\n",
    "\n",
    "        # Creating try loops for variable data that may or may not show up\n",
    "        try:\n",
    "            city_dict[f'{city}']['data']['coords'].append(tweet['coordinates']['coordinates'])\n",
    "        except:\n",
    "            city_dict[f'{city}']['data']['coords'].append(tweet['coordinates'])\n",
    "\n",
    "        try:\n",
    "            city_dict[f'{city}']['data']['profile_image_url'].append(tweet['user']['profile_image_url'])\n",
    "        except:\n",
    "            city_dict[f'{city}']['data']['profile_image_url'].append('None')\n",
    "\n",
    "        # Printing status of calls and current time\n",
    "        if (len(city_dict[f'{city}']['data']['text'])%5 == 0):\n",
    "            print(f'{city}: ' + str(len(city_dict[f'{city}']['data']['text'])))    \n",
    "            print(\"--- %s seconds ---\" % round(time.clock() - start_time,2))\n",
    "            \n",
    "    # Ending function\n",
    "    return()"
   ]
  },
  {
   "cell_type": "code",
   "execution_count": 4,
   "metadata": {
    "collapsed": true
   },
   "outputs": [],
   "source": [
    "# Calculating a rough coord based on bounding box\n",
    "def solveBox(bounding_box):\n",
    "    \n",
    "    # Creating temp dict and variable to return\n",
    "    coord_dict = {'lat': [], 'lon': []}\n",
    "    coord_return = []\n",
    "\n",
    "    # Small loop to append each coord to it's own list to sum\n",
    "    for coord in bounding_box[0]:\n",
    "        coord_dict['lat'].append(coord[1])\n",
    "        coord_dict['lon'].append(coord[0])\n",
    "\n",
    "    # Appending the sums to a return list\n",
    "    coord_return.append(round(np.mean(coord_dict['lon']),6))\n",
    "    coord_return.append(round(np.mean(coord_dict['lat']),6))\n",
    "\n",
    "    # Return list of coords\n",
    "    return(coord_return)"
   ]
  },
  {
   "cell_type": "code",
   "execution_count": 5,
   "metadata": {
    "collapsed": true
   },
   "outputs": [],
   "source": [
    "# Fills out the dictionary\n",
    "def fillDict():\n",
    "    \n",
    "    # City dictionary with static coords\n",
    "    city_dict = {\n",
    "        'Dallas': {'gps':[-96.796988, 32.776664], 'data':{}},\n",
    "        'St. Louis': {'gps':[-90.199404, 38.627003], 'data':{}},\n",
    "        'Los Angeles': {'gps':[-118.243685, 34.052234], 'data':{}},\n",
    "        'Atlanta': {'gps':[-84.387982, 33.748995], 'data':{}},\n",
    "        'Chicago': {'gps':[-87.629798, 41.878114], 'data':{}},\n",
    "        'Miami': {'gps':[-80.191790, 25.761680], 'data':{}},\n",
    "        'New York': {'gps':[-74.005973, 40.712775], 'data':{}},\n",
    "        'Kansas City': {'gps':[-94.578567, 39.099727], 'data':{}},\n",
    "        'Seattle': {'gps':[-122.332071, 47.606210], 'data':{}},\n",
    "        'Las Vegas': {'gps':[-115.139830, 36.169941], 'data':{}}\n",
    "        }\n",
    "\n",
    "    # Adding template to dictionary\n",
    "    for city in city_dict:\n",
    "\n",
    "        # Making lists for each entry\n",
    "        city_dict[f'{city}']['data']['text'] = [] \n",
    "        city_dict[f'{city}']['data']['coords'] = []\n",
    "        city_dict[f'{city}']['data']['bounding_box'] = []\n",
    "        city_dict[f'{city}']['data']['user'] = []\n",
    "        city_dict[f'{city}']['data']['profile_image_url'] = []\n",
    "        city_dict[f'{city}']['data']['created_at'] = []\n",
    "        city_dict[f'{city}']['data']['comp_sent'] = []\n",
    "        city_dict[f'{city}']['data']['followers_count'] = []\n",
    "\n",
    "    # Returning the dictionary\n",
    "    return(city_dict)"
   ]
  },
  {
   "cell_type": "code",
   "execution_count": 6,
   "metadata": {
    "collapsed": true
   },
   "outputs": [],
   "source": [
    "# Function to compress limit check\n",
    "def limit_check(check, city_dict, tweet_goal):\n",
    "    \n",
    "    if (check == 'first_to_goal'):\n",
    "        check_arr = []\n",
    "        for city in city_dict:\n",
    "            if (len(city_dict[f'{city}']['data']['text'])>=tweet_goal):\n",
    "                check_arr.append(True)\n",
    "            else:\n",
    "                check_arr.append(False)\n",
    "                \n",
    "        limit = not any(check_arr)\n",
    "        \n",
    "    if (check == 'all_to_goal'):\n",
    "        check_arr = []\n",
    "        for city in city_dict:\n",
    "            if (len(city_dict[f'{city}']['data']['text'])<tweet_goal):\n",
    "                check_arr.append(True)\n",
    "            else:\n",
    "                check_arr.append(False)   \n",
    "                \n",
    "        limit = any(check_arr)\n",
    "        \n",
    "    return(limit)"
   ]
  },
  {
   "cell_type": "code",
   "execution_count": 7,
   "metadata": {
    "collapsed": true
   },
   "outputs": [],
   "source": [
    "def saveOutput(data):\n",
    "    # Save output to a txt/json doc for easy read late\n",
    "    with open('data.txt', 'w') as outfile:\n",
    "        json.dump(data, outfile, sort_keys = True, indent = 4)"
   ]
  },
  {
   "cell_type": "code",
   "execution_count": 8,
   "metadata": {
    "collapsed": true,
    "scrolled": true
   },
   "outputs": [],
   "source": [
    "# Main Execution\n",
    "def twitterize():\n",
    "    \n",
    "    # Setting up statics\n",
    "    tweet_goal = 20\n",
    "    limit_type = 'first_to_goal' # 'first_to_goal' or 'all_to_goal'\n",
    "    start_time = time.clock()\n",
    "    \n",
    "    # Finding the dict\n",
    "    city_dict = fillDict()\n",
    "\n",
    "    # Main loop - Checks what type of limit is set and runs\n",
    "    while (limit_check(limit_type, city_dict, tweet_goal) == True):\n",
    "        \n",
    "        # Rotates cities - Causes a delay so new tweets can be fed to the\n",
    "        for city in city_dict:\n",
    "            tweetGrab(city, city_dict, start_time)\n",
    "            time.sleep(6)\n",
    "\n",
    "    # Saving output to txt file\n",
    "    saveOutput(city_dict)\n",
    "    \n",
    "    # Printing runtime\n",
    "    print(\"--- %s seconds ---\" % round(time.clock() - start_time,2))"
   ]
  },
  {
   "cell_type": "code",
   "execution_count": 9,
   "metadata": {},
   "outputs": [
    {
     "name": "stdout",
     "output_type": "stream",
     "text": [
      "Dallas: 5\n",
      "--- 63.61 seconds ---\n",
      "Kansas City: 5\n",
      "--- 170.34 seconds ---\n",
      "Las Vegas: 5\n",
      "--- 182.86 seconds ---\n",
      "St. Louis: 5\n",
      "--- 195.53 seconds ---\n",
      "Dallas: 10\n",
      "--- 252.09 seconds ---\n",
      "Atlanta: 5\n",
      "--- 270.97 seconds ---\n",
      "Los Angeles: 5\n",
      "--- 390.47 seconds ---\n",
      "Dallas: 15\n",
      "--- 440.82 seconds ---\n",
      "Miami: 5\n",
      "--- 472.37 seconds ---\n",
      "Kansas City: 10\n",
      "--- 484.92 seconds ---\n",
      "New York: 5\n",
      "--- 541.59 seconds ---\n",
      "Dallas: 20\n",
      "--- 566.69 seconds ---\n",
      "St. Louis: 10\n",
      "--- 572.97 seconds ---\n",
      "Atlanta: 10\n",
      "--- 585.71 seconds ---\n",
      "Chicago: 5\n",
      "--- 592.02 seconds ---\n",
      "Seattle: 5\n",
      "--- 617.06 seconds ---\n",
      "--- 629.41 seconds ---\n"
     ]
    }
   ],
   "source": [
    "twitterize()"
   ]
  },
  {
   "cell_type": "code",
   "execution_count": null,
   "metadata": {
    "collapsed": true
   },
   "outputs": [],
   "source": []
  }
 ],
 "metadata": {
  "kernelspec": {
   "display_name": "Python 3",
   "language": "python",
   "name": "python3"
  },
  "language_info": {
   "codemirror_mode": {
    "name": "ipython",
    "version": 3
   },
   "file_extension": ".py",
   "mimetype": "text/x-python",
   "name": "python",
   "nbconvert_exporter": "python",
   "pygments_lexer": "ipython3",
   "version": "3.6.3"
  }
 },
 "nbformat": 4,
 "nbformat_minor": 2
}
