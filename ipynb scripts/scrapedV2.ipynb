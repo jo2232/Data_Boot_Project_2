{
 "cells": [
  {
   "cell_type": "code",
   "execution_count": 1,
   "metadata": {
    "collapsed": true
   },
   "outputs": [],
   "source": [
    "# Dependencies\n",
    "import json\n",
    "import time\n",
    "import os\n",
    "import requests\n",
    "import twitter\n",
    "import numpy as np\n",
    "\n",
    "from vaderSentiment.vaderSentiment import SentimentIntensityAnalyzer\n",
    "analyzer = SentimentIntensityAnalyzer()"
   ]
  },
  {
   "cell_type": "code",
   "execution_count": 6,
   "metadata": {},
   "outputs": [],
   "source": [
    "# Loading Keys\n",
    "api_dir = os.path.dirname(os.path.dirname(os.path.dirname(os.path.dirname(os.path.dirname(os.path.realpath('__file__'))))))\n",
    "file_name = os.path.join(api_dir, \"api_keys.json\")\n",
    "data = json.load(open(file_name))\n",
    "\n",
    "# Setting Keys\n",
    "consumer_key = data['twitter_consumer_key']\n",
    "consumer_secret = data['twitter_consumer_secret']\n",
    "access_token = data['twitter_access_token']\n",
    "access_token_secret = data['twitter_access_token_secret']"
   ]
  },
  {
   "cell_type": "code",
   "execution_count": 7,
   "metadata": {
    "collapsed": true
   },
   "outputs": [],
   "source": [
    "# Setting up Auth\n",
    "api = twitter.Api(consumer_key=consumer_key,\n",
    "                  consumer_secret=consumer_secret,\n",
    "                  access_token_key=access_token,\n",
    "                  access_token_secret=access_token_secret)"
   ]
  },
  {
   "cell_type": "code",
   "execution_count": 8,
   "metadata": {
    "collapsed": true,
    "scrolled": false
   },
   "outputs": [],
   "source": [
    "# Tweet Gather function\n",
    "def tweetGrab(city):\n",
    "    \n",
    "    # Creating return Dict\n",
    "    tweet_dict = {'text':[], 'coords':[], 'bounding_box':[], 'user':[], 'profile_image_url':[], 'created_at':[], 'comp_sent': [], 'followers_count': []}\n",
    "    \n",
    "    # Creating a while loop to run until 100 tweets have been grabbed\n",
    "    while (len(tweet_dict['text'])<20):\n",
    "        \n",
    "        # Call to API - each new call should return new tweets and count against rate-limit\n",
    "        tweets = api.GetSearch(geocode=[city[1],city[0], '20mi'],return_json=True)\n",
    "\n",
    "        # Loop to parse tweet and append data needed\n",
    "        for tweet in tweets['statuses']:\n",
    "            \n",
    "            # Appending important data\n",
    "            tweet_dict['text'].append(tweet['text'])\n",
    "            tweet_dict['bounding_box'].append(solveBox(tweet['place']['bounding_box']['coordinates']))\n",
    "            tweet_dict['user'].append(tweet['user']['screen_name'])\n",
    "            tweet_dict['created_at'].append(tweet['created_at'])\n",
    "            tweet_dict['followers_count'].append(tweet['user']['followers_count'])\n",
    "            tweet_dict['comp_sent'].append(analyzer.polarity_scores(tweet['text'])['compound'])\n",
    "            \n",
    "            # Creating try loops for variable data that may or may not show up\n",
    "            try:\n",
    "                tweet_dict['coords'].append(tweet['coordinates']['coordinates'])\n",
    "            except:\n",
    "                tweet_dict['coords'].append(tweet['coordinates'])\n",
    "\n",
    "            try:\n",
    "                tweet_dict['profile_image_url'].append(tweet['user']['profile_image_url'])\n",
    "            except:\n",
    "                tweet_dict['profile_image_url'].append('None')\n",
    "        \n",
    "        # Sleeping function to allow for new tweets to be fed to API\n",
    "        time.sleep(20)\n",
    "        \n",
    "    # Returning dict of gathered data\n",
    "    return(tweet_dict)"
   ]
  },
  {
   "cell_type": "code",
   "execution_count": 9,
   "metadata": {
    "collapsed": true
   },
   "outputs": [],
   "source": [
    "# Calculating a rough coord based on bounding box\n",
    "def solveBox(bounding_box):\n",
    "    \n",
    "    # Creating temp dict and variable to return\n",
    "    coord_dict = {'lat': [], 'lon': []}\n",
    "    coord_return = []\n",
    "\n",
    "    # Small loop to append each coord to it's own list to sum\n",
    "    for coord in bounding_box[0]:\n",
    "        coord_dict['lat'].append(coord[1])\n",
    "        coord_dict['lon'].append(coord[0])\n",
    "\n",
    "    # Appending the sums to a return list\n",
    "    coord_return.append(np.mean(coord_dict['lon'])) \n",
    "    coord_return.append(np.mean(coord_dict['lat']))\n",
    "\n",
    "    return(coord_return)"
   ]
  },
  {
   "cell_type": "code",
   "execution_count": 13,
   "metadata": {
    "scrolled": true
   },
   "outputs": [
    {
     "name": "stdout",
     "output_type": "stream",
     "text": [
      "--- 304.13 seconds ---\n"
     ]
    }
   ],
   "source": [
    "# Main execution\n",
    "city_gps_dict = {\n",
    "        'Dallas': [-96.796988, 32.776664],\n",
    "        'St. Louis': [-90.199404, 38.627003],\n",
    "        'Los Angeles': [-118.243685, 34.052234],\n",
    "        'Atlanta': [-84.387982, 33.748995],\n",
    "        'Chicago': [-87.629798, 41.878114],\n",
    "        'Miami': [-80.191790, 25.761680],\n",
    "        'New York': [-74.005973, 40.712775],\n",
    "        'Kansas City': [-94.578567, 39.099727],\n",
    "        'Seattle': [-122.3320708, 47.6062095]\n",
    "    }\n",
    "\n",
    "\n",
    "# Create starting clock point\n",
    "start_time = time.clock()\n",
    "\n",
    "# Execute script\n",
    "text = tweetGrab(city_gps_dict['Dallas'])\n",
    "\n",
    "# Printing runtime\n",
    "print(\"--- %s seconds ---\" % round(time.clock() - start_time, 2))"
   ]
  },
  {
   "cell_type": "code",
   "execution_count": 14,
   "metadata": {
    "scrolled": true
   },
   "outputs": [
    {
     "data": {
      "text/plain": [
       "{'bounding_box': [[-97.224317999999997, 32.860387200000005],\n",
       "  [-96.832009499999998, 32.959787500000004],\n",
       "  [-96.761753499999998, 32.819858499999995],\n",
       "  [-96.994833, 32.768591000000001],\n",
       "  [-97.214890135962747, 32.746649777253438],\n",
       "  [-97.011167999999998, 32.655677999999995],\n",
       "  [-97.135637500000001, 32.70185],\n",
       "  [-96.761753499999998, 32.819858499999995],\n",
       "  [-96.761753499999998, 32.819858499999995],\n",
       "  [-97.135637500000001, 32.70185],\n",
       "  [-96.761753499999998, 32.819858499999995],\n",
       "  [-97.285913499999992, 32.7799665],\n",
       "  [-96.621634, 32.907642000000003],\n",
       "  [-97.285913499999992, 32.7799665],\n",
       "  [-97.135637500000001, 32.70185],\n",
       "  [-97.135637500000001, 32.70185],\n",
       "  [-96.793051300000002, 32.851009650000002],\n",
       "  [-96.961483000000001, 32.863917000000001],\n",
       "  [-96.785531000000006, 32.604786000000004],\n",
       "  [-97.285913499999992, 32.7799665],\n",
       "  [-96.690936999999991, 32.964484500000005],\n",
       "  [-96.761753499999998, 32.819858499999995]],\n",
       " 'comp_sent': [0.0,\n",
       "  0.6908,\n",
       "  0.0,\n",
       "  0.0,\n",
       "  -0.431,\n",
       "  0.0,\n",
       "  0.0,\n",
       "  0.6486,\n",
       "  0.765,\n",
       "  0.8442,\n",
       "  0.0,\n",
       "  0.0,\n",
       "  0.0,\n",
       "  0.0,\n",
       "  -0.6249,\n",
       "  0.0,\n",
       "  0.7263,\n",
       "  0.3182,\n",
       "  0.0,\n",
       "  -0.4215,\n",
       "  0.6369,\n",
       "  0.0],\n",
       " 'coords': [None,\n",
       "  [-96.835, 32.95777778],\n",
       "  None,\n",
       "  [-97.02671672, 32.78501735],\n",
       "  None,\n",
       "  None,\n",
       "  None,\n",
       "  None,\n",
       "  [-96.77735597, 32.7662058],\n",
       "  None,\n",
       "  None,\n",
       "  None,\n",
       "  None,\n",
       "  None,\n",
       "  None,\n",
       "  [-97.0827, 32.7516],\n",
       "  None,\n",
       "  None,\n",
       "  None,\n",
       "  None,\n",
       "  None,\n",
       "  None],\n",
       " 'created_at': ['Wed Apr 25 00:29:08 +0000 2018',\n",
       "  'Wed Apr 25 00:29:47 +0000 2018',\n",
       "  'Wed Apr 25 00:30:08 +0000 2018',\n",
       "  'Wed Apr 25 00:30:29 +0000 2018',\n",
       "  'Wed Apr 25 00:30:48 +0000 2018',\n",
       "  'Wed Apr 25 00:30:47 +0000 2018',\n",
       "  'Wed Apr 25 00:31:10 +0000 2018',\n",
       "  'Wed Apr 25 00:31:09 +0000 2018',\n",
       "  'Wed Apr 25 00:31:09 +0000 2018',\n",
       "  'Wed Apr 25 00:31:08 +0000 2018',\n",
       "  'Wed Apr 25 00:31:30 +0000 2018',\n",
       "  'Wed Apr 25 00:31:29 +0000 2018',\n",
       "  'Wed Apr 25 00:31:50 +0000 2018',\n",
       "  'Wed Apr 25 00:32:10 +0000 2018',\n",
       "  'Wed Apr 25 00:33:11 +0000 2018',\n",
       "  'Wed Apr 25 00:33:11 +0000 2018',\n",
       "  'Wed Apr 25 00:33:11 +0000 2018',\n",
       "  'Wed Apr 25 00:33:31 +0000 2018',\n",
       "  'Wed Apr 25 00:33:31 +0000 2018',\n",
       "  'Wed Apr 25 00:33:51 +0000 2018',\n",
       "  'Wed Apr 25 00:33:51 +0000 2018',\n",
       "  'Wed Apr 25 00:33:51 +0000 2018'],\n",
       " 'followers_count': [739,\n",
       "  609,\n",
       "  420,\n",
       "  3878,\n",
       "  253,\n",
       "  2254,\n",
       "  3343,\n",
       "  384,\n",
       "  2689,\n",
       "  231,\n",
       "  369,\n",
       "  101,\n",
       "  569,\n",
       "  416,\n",
       "  385,\n",
       "  701,\n",
       "  1581,\n",
       "  1665,\n",
       "  1589,\n",
       "  255,\n",
       "  1769,\n",
       "  522],\n",
       " 'profile_image_url': ['http://pbs.twimg.com/profile_images/960953535402737667/8ualwQkM_normal.jpg',\n",
       "  'http://pbs.twimg.com/profile_images/986375906938769408/LpdoowUT_normal.jpg',\n",
       "  'http://pbs.twimg.com/profile_images/973261857401262081/stIN3zLI_normal.jpg',\n",
       "  'http://pbs.twimg.com/profile_images/3318413788/5a50cd8323163df8508edf79a764b35d_normal.jpeg',\n",
       "  'http://pbs.twimg.com/profile_images/873812792410644480/SQ8PcW_k_normal.jpg',\n",
       "  'http://pbs.twimg.com/profile_images/983085722415566848/UXjr1rkH_normal.jpg',\n",
       "  'http://pbs.twimg.com/profile_images/983188139702411265/JofqCq84_normal.jpg',\n",
       "  'http://pbs.twimg.com/profile_images/3628039138/d2d4179cf6b5fdff68b8d51e04eee115_normal.jpeg',\n",
       "  'http://pbs.twimg.com/profile_images/842948291964878848/RWy5L2JG_normal.jpg',\n",
       "  'http://pbs.twimg.com/profile_images/966378970391416832/_9XD9tT__normal.jpg',\n",
       "  'http://pbs.twimg.com/profile_images/988231954599436295/M6nqFYvZ_normal.jpg',\n",
       "  'http://pbs.twimg.com/profile_images/536405351449776128/ExJlL4nI_normal.jpeg',\n",
       "  'http://pbs.twimg.com/profile_images/988741482596257793/o7WKEmL0_normal.jpg',\n",
       "  'http://pbs.twimg.com/profile_images/1225649694/image_normal.jpg',\n",
       "  'http://pbs.twimg.com/profile_images/987107402045624320/Fts-C9G__normal.jpg',\n",
       "  'http://pbs.twimg.com/profile_images/932640417241292801/7So0BV_p_normal.jpg',\n",
       "  'http://pbs.twimg.com/profile_images/908817864945217536/djVyUNRE_normal.jpg',\n",
       "  'http://pbs.twimg.com/profile_images/924828689182883840/wlr3lnA3_normal.jpg',\n",
       "  'http://pbs.twimg.com/profile_images/983445364027076608/zVBsv90m_normal.jpg',\n",
       "  'http://pbs.twimg.com/profile_images/985865507155992576/RXcMWknq_normal.jpg',\n",
       "  'http://pbs.twimg.com/profile_images/977355647237984257/hsNPnuT-_normal.jpg',\n",
       "  'http://pbs.twimg.com/profile_images/987807580411047943/qb_8lqyh_normal.jpg'],\n",
       " 'text': ['@CunninghTristen fatass',\n",
       "  '“Tuck Jump”, Free Weight Exercise, working on Explosiveness, Form, Flexibility, many more… https://t.co/dmzbzncXRz',\n",
       "  '@jacobccfisher @jay_DaShoota Both hold the camera, you focus, he clicks',\n",
       "  \"1st Mayor's Bike Ride of the 2018 year!\\n\\n#GPPARD @ Mike Lewis Park https://t.co/uFrtbGo67V\",\n",
       "  '@ARTbymARTell never ceases to amaze\\nCatch him featuring @ #dockopenmic tonight https://t.co/JZbCPlQtDn',\n",
       "  'Bro i can’t believe i was just that in my feelings about life bro shakeeee back',\n",
       "  '@James5Crawford @MeekMill Vacation time in Miami',\n",
       "  '.@kelly_clarkson #VoiceResults #caleb is a heart breaker.  What a voice. A natural talent.',\n",
       "  'It’s always a great time with @men_of_nehemiah - thank you Louis, Men of Nehemiah, and PCBC men,… https://t.co/dDBzGBlxKD',\n",
       "  '@Phe800 Yeah wow. Sucks to support someone doing a good job.',\n",
       "  'A young mom who will never get to live her life and see her 9 month old baby grow up is gone because of a fucking i… https://t.co/Gu1NTLpRFk',\n",
       "  \"@dominos I just ordered two of the same pizzas from Dominos and they don't have any sauce on them... How does that… https://t.co/oYRrgvN3Us\",\n",
       "  '@Alexalarcon_17 FIFA ?',\n",
       "  '@TCUCohen @TCU_Baseball I got mine too! https://t.co/VG0Gah1lea',\n",
       "  'Life always choses the worst possible times to get me sick....',\n",
       "  'Go Rangers! - Drinking a Salty Lady by @martinhousebrew at @mlb  — https://t.co/Ia0cVueRU9 #photo',\n",
       "  'Congrats to Lauren Lake on being crowned the 2018 Queen of the Diamond! https://t.co/GNLeOayj2m',\n",
       "  'Cool https://t.co/HNI4YXuuYO',\n",
       "  '@_CeeAvery 💙',\n",
       "  'I’m the type of guy that worries literally about everything.',\n",
       "  'You simply learn to love your life once you understand how much it means to have Allah swt in your life.',\n",
       "  'https://t.co/4iDQ2j8f3g'],\n",
       " 'user': ['quapakalau',\n",
       "  '_NMEFOwner_',\n",
       "  'ZupremeTrash',\n",
       "  'Roywmsjr',\n",
       "  'Sinspokenword',\n",
       "  'KennnDOLL__',\n",
       "  'KingMarch2',\n",
       "  'popartistrobb',\n",
       "  'Jeff_Warren',\n",
       "  'Joel_Duren',\n",
       "  'Aleloveschicken',\n",
       "  'alecwhit',\n",
       "  'al_bambino11',\n",
       "  'Julie_McAvoy',\n",
       "  'averyrohannn',\n",
       "  'what_a_BA',\n",
       "  'HPScotsLive',\n",
       "  'JonFilmFan',\n",
       "  'goonwithglasses',\n",
       "  'Victortx_99',\n",
       "  'WaleedDaHabeeb',\n",
       "  'SayItAintSed']}"
      ]
     },
     "execution_count": 14,
     "metadata": {},
     "output_type": "execute_result"
    }
   ],
   "source": []
  },
  {
   "cell_type": "code",
   "execution_count": null,
   "metadata": {
    "collapsed": true
   },
   "outputs": [],
   "source": []
  },
  {
   "cell_type": "code",
   "execution_count": null,
   "metadata": {
    "collapsed": true
   },
   "outputs": [],
   "source": []
  },
  {
   "cell_type": "code",
   "execution_count": null,
   "metadata": {
    "collapsed": true
   },
   "outputs": [],
   "source": []
  },
  {
   "cell_type": "code",
   "execution_count": null,
   "metadata": {
    "collapsed": true
   },
   "outputs": [],
   "source": []
  },
  {
   "cell_type": "code",
   "execution_count": null,
   "metadata": {
    "collapsed": true
   },
   "outputs": [],
   "source": []
  },
  {
   "cell_type": "code",
   "execution_count": null,
   "metadata": {
    "collapsed": true
   },
   "outputs": [],
   "source": []
  }
 ],
 "metadata": {
  "kernelspec": {
   "display_name": "Python 3",
   "language": "python",
   "name": "python3"
  },
  "language_info": {
   "codemirror_mode": {
    "name": "ipython",
    "version": 3
   },
   "file_extension": ".py",
   "mimetype": "text/x-python",
   "name": "python",
   "nbconvert_exporter": "python",
   "pygments_lexer": "ipython3",
   "version": "3.6.3"
  }
 },
 "nbformat": 4,
 "nbformat_minor": 2
}
