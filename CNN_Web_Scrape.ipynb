{
 "cells": [
  {
   "cell_type": "code",
   "execution_count": 1,
   "metadata": {
    "collapsed": true
   },
   "outputs": [],
   "source": [
    "import time\n",
    "from splinter import Browser\n",
    "from bs4 import BeautifulSoup\n",
    "from selenium import webdriver\n",
    "from sys import platform"
   ]
  },
  {
   "cell_type": "code",
   "execution_count": 2,
   "metadata": {
    "collapsed": true
   },
   "outputs": [],
   "source": [
    "def init_browser():\n",
    "    if platform == \"darwin\":\n",
    "        executable_path = {\"executable_path\": \"/usr/local/bin/chromedriver\"}\n",
    "    else:\n",
    "        executable_path = {'executable_path': 'chromedriver.exe'}\n",
    "    return Browser(\"chrome\", **executable_path, headless=False)"
   ]
  },
  {
   "cell_type": "code",
   "execution_count": 21,
   "metadata": {},
   "outputs": [
    {
     "name": "stdout",
     "output_type": "stream",
     "text": [
      "['//www.cnn.com/travel/article/things-to-do-oaxaca-mexico/index.html', '//www.cnn.com/2018/04/19/us/backpackers-kalalau-trail-kauai-flooding-trnd/index.html', '//www.cnn.com/2018/04/19/us/laird-hamilton-water-rescue-kauai/index.html', '//www.cnn.com/2018/04/18/sport/surfing-contest-canceled-sharks-margaret-river-spt/index.html', '//www.cnn.com/2018/04/17/sport/sailing-around-the-world-kellie-pollock-spt/index.html', '//www.cnn.com/travel/article/guadeloupe-what-to-do-and-see/index.html', '//www.cnn.com/2018/04/16/asia/australia-surfing-shark-intl/index.html', '//www.cnn.com/2018/04/11/sport/surfing-windsurfing-jaws-maui-spt/index.html']\n",
      "['The best things to do in Oaxaca, Mexico', 'Backpacker trapped in the torrential rains in Hawaii survived by hiking 20 miles in sandals', 'Surfing legend Laird Hamilton has been rescuing people from floods in Hawaii', 'Australian surfing contest canceled because of shark threat', \"'Weathered but wiser' — Around-the-world sailors learn hard lessons\", \"Guadeloupe: These tiny islands are the French Caribbean's greatest secret\", 'Shark attack halts Australia surf competition', \"'Jaws': How a surfing break in Hawaii was named after movie blockbuster\"]\n"
     ]
    }
   ],
   "source": [
    "\n",
    "browser = init_browser()\n",
    "    \n",
    "article_list = []\n",
    "    \n",
    "url = 'https://www.cnn.com/'\n",
    "browser.visit(url)\n",
    "html = browser.html\n",
    "soup = BeautifulSoup(html, 'html.parser') \n",
    "\n",
    "input_field = browser.find_by_css('#searchInputFooter')\n",
    "input_field[0].fill('surfing')\n",
    "search_button = browser.find_by_xpath('/html/body/footer/div[1]/div[2]/form/button').first\n",
    "search_button.click()\n",
    "time.sleep(7)\n",
    "\n",
    "html = browser.html\n",
    "# create soup object from html\n",
    "article_soup = BeautifulSoup(html, \"html.parser\")\n",
    "articles = article_soup.find_all(class_=\"cnn-search__result--article\")\n",
    "for headline in articles:\n",
    "    title = headline.find(\"h3\", class_=\"cnn-search__result-headline\")\n",
    "    link = title.find(\"a\")\n",
    "    article_list.append(link)\n",
    "    \n",
    "links = [a.get('href') for a in article_list]\n",
    "article_headlines = [b.get_text() for b in article_list]\n",
    "print(links)\n",
    "print(article_headlines)\n"
   ]
  },
  {
   "cell_type": "code",
   "execution_count": 15,
   "metadata": {},
   "outputs": [
    {
     "name": "stdout",
     "output_type": "stream",
     "text": [
      "[<a href=\"//www.cnn.com/travel/article/things-to-do-oaxaca-mexico/index.html\">The best things to do in Oaxaca, Mexico</a>, <a href=\"//www.cnn.com/2018/04/19/us/backpackers-kalalau-trail-kauai-flooding-trnd/index.html\">Backpacker trapped in the torrential rains in Hawaii survived by hiking 20 miles in sandals</a>, <a href=\"//www.cnn.com/2018/04/19/us/laird-hamilton-water-rescue-kauai/index.html\">Surfing legend Laird Hamilton has been rescuing people from floods in Hawaii</a>, <a href=\"//www.cnn.com/2018/04/18/sport/surfing-contest-canceled-sharks-margaret-river-spt/index.html\">Australian surfing contest canceled because of shark threat</a>, <a href=\"//www.cnn.com/2018/04/17/sport/sailing-around-the-world-kellie-pollock-spt/index.html\">'Weathered but wiser' — Around-the-world sailors learn hard lessons</a>, <a href=\"//www.cnn.com/travel/article/guadeloupe-what-to-do-and-see/index.html\">Guadeloupe: These tiny islands are the French Caribbean's greatest secret</a>, <a href=\"//www.cnn.com/2018/04/16/asia/australia-surfing-shark-intl/index.html\">Shark attack halts Australia surf competition</a>, <a href=\"//www.cnn.com/2018/04/11/sport/surfing-windsurfing-jaws-maui-spt/index.html\">'Jaws': How a surfing break in Hawaii was named after movie blockbuster</a>]\n"
     ]
    }
   ],
   "source": [
    "print(article_list)"
   ]
  },
  {
   "cell_type": "code",
   "execution_count": 16,
   "metadata": {},
   "outputs": [
    {
     "data": {
      "text/plain": [
       "[]"
      ]
     },
     "execution_count": 16,
     "metadata": {},
     "output_type": "execute_result"
    }
   ],
   "source": [
    "[h.get('href') for h in article_list if 'string' in h.get('href', '')]"
   ]
  },
  {
   "cell_type": "code",
   "execution_count": 17,
   "metadata": {
    "collapsed": true
   },
   "outputs": [],
   "source": [
    "links = [a.get('href') for a in article_list]"
   ]
  },
  {
   "cell_type": "code",
   "execution_count": 19,
   "metadata": {
    "collapsed": true
   },
   "outputs": [],
   "source": [
    "article_headline = [b.get_text() for b in article_list]"
   ]
  },
  {
   "cell_type": "code",
   "execution_count": 20,
   "metadata": {},
   "outputs": [
    {
     "data": {
      "text/plain": [
       "['The best things to do in Oaxaca, Mexico',\n",
       " 'Backpacker trapped in the torrential rains in Hawaii survived by hiking 20 miles in sandals',\n",
       " 'Surfing legend Laird Hamilton has been rescuing people from floods in Hawaii',\n",
       " 'Australian surfing contest canceled because of shark threat',\n",
       " \"'Weathered but wiser' — Around-the-world sailors learn hard lessons\",\n",
       " \"Guadeloupe: These tiny islands are the French Caribbean's greatest secret\",\n",
       " 'Shark attack halts Australia surf competition',\n",
       " \"'Jaws': How a surfing break in Hawaii was named after movie blockbuster\"]"
      ]
     },
     "execution_count": 20,
     "metadata": {},
     "output_type": "execute_result"
    }
   ],
   "source": [
    "article_headline"
   ]
  },
  {
   "cell_type": "code",
   "execution_count": 18,
   "metadata": {},
   "outputs": [
    {
     "data": {
      "text/plain": [
       "['//www.cnn.com/travel/article/things-to-do-oaxaca-mexico/index.html',\n",
       " '//www.cnn.com/2018/04/19/us/backpackers-kalalau-trail-kauai-flooding-trnd/index.html',\n",
       " '//www.cnn.com/2018/04/19/us/laird-hamilton-water-rescue-kauai/index.html',\n",
       " '//www.cnn.com/2018/04/18/sport/surfing-contest-canceled-sharks-margaret-river-spt/index.html',\n",
       " '//www.cnn.com/2018/04/17/sport/sailing-around-the-world-kellie-pollock-spt/index.html',\n",
       " '//www.cnn.com/travel/article/guadeloupe-what-to-do-and-see/index.html',\n",
       " '//www.cnn.com/2018/04/16/asia/australia-surfing-shark-intl/index.html',\n",
       " '//www.cnn.com/2018/04/11/sport/surfing-windsurfing-jaws-maui-spt/index.html']"
      ]
     },
     "execution_count": 18,
     "metadata": {},
     "output_type": "execute_result"
    }
   ],
   "source": [
    "links"
   ]
  },
  {
   "cell_type": "code",
   "execution_count": null,
   "metadata": {
    "collapsed": true
   },
   "outputs": [],
   "source": []
  }
 ],
 "metadata": {
  "kernelspec": {
   "display_name": "Python 3",
   "language": "python",
   "name": "python3"
  },
  "language_info": {
   "codemirror_mode": {
    "name": "ipython",
    "version": 3
   },
   "file_extension": ".py",
   "mimetype": "text/x-python",
   "name": "python",
   "nbconvert_exporter": "python",
   "pygments_lexer": "ipython3",
   "version": "3.6.3"
  }
 },
 "nbformat": 4,
 "nbformat_minor": 2
}
