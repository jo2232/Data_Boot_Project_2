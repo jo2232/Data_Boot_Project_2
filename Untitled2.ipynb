{
 "cells": [
  {
   "cell_type": "code",
   "execution_count": null,
   "metadata": {
    "collapsed": true
   },
   "outputs": [],
   "source": [
    "import time\n",
    "from splinter import Browser\n",
    "from bs4 import BeautifulSoup\n",
    "from selenium import webdriver\n",
    "from sys import platform\n",
    "import json\n",
    "\n",
    "\n",
    "# In[2]:\n",
    "\n",
    "def scrape_it():\n",
    "    def init_browser():\n",
    "        if platform == \"darwin\":\n",
    "            executable_path = {\"executable_path\": \"/usr/local/bin/chromedriver\"}\n",
    "        else:\n",
    "            executable_path = {'executable_path': 'chromedriver.exe'}\n",
    "        return Browser(\"chrome\", **executable_path, headless=False)\n",
    "\n",
    "\n",
    "    # In[21]:\n",
    "\n",
    "\n",
    "\n",
    "    browser = init_browser()\n",
    "        \n",
    "    article_list = []\n",
    "        \n",
    "    url = 'https://www.cnn.com/'\n",
    "    browser.visit(url)\n",
    "    html = browser.html\n",
    "    soup = BeautifulSoup(html, 'html.parser') \n",
    "\n",
    "    input_field = browser.find_by_css('#searchInputFooter')\n",
    "    input_field[0].fill('dallas')\n",
    "    search_button = browser.find_by_xpath('/html/body/footer/div[1]/div[2]/form/button').first\n",
    "    search_button.click()\n",
    "    time.sleep(7)\n",
    "\n",
    "    html = browser.html\n",
    "    # create soup object from html\n",
    "    article_soup = BeautifulSoup(html, \"html.parser\")\n",
    "    articles = article_soup.find_all(class_=\"cnn-search__result--article\")\n",
    "    for headline in articles:\n",
    "        title = headline.find(\"h3\", class_=\"cnn-search__result-headline\")\n",
    "        link = title.find(\"a\")\n",
    "        article_list.append(link)\n",
    "        \n",
    "    links = [a.get('href') for a in article_list]\n",
    "    article_headlines = [b.get_text() for b in article_list]\n",
    "    \n",
    "    cnn_data = dict(zip(article_headlines, links))\n",
    "\n",
    "    def saveOutput(data):\n",
    "        with open('cnn.txt', 'w') as outfile:\n",
    "            json.dump(data, outfile, sort_keys = True, indent = 2)\n",
    "       \n",
    "    saveOutput(cnn_data)\n",
    "    print(cnn_data)\n",
    "    \n",
    "    return cnn_data"
   ]
  },
  {
   "cell_type": "code",
   "execution_count": null,
   "metadata": {},
   "outputs": [],
   "source": [
    "scrape_it()"
   ]
  },
  {
   "cell_type": "code",
   "execution_count": null,
   "metadata": {
    "collapsed": true
   },
   "outputs": [],
   "source": []
  }
 ],
 "metadata": {
  "kernelspec": {
   "display_name": "Python 3",
   "language": "python",
   "name": "python3"
  },
  "language_info": {
   "codemirror_mode": {
    "name": "ipython",
    "version": 3
   },
   "file_extension": ".py",
   "mimetype": "text/x-python",
   "name": "python",
   "nbconvert_exporter": "python",
   "pygments_lexer": "ipython3",
   "version": "3.6.3"
  }
 },
 "nbformat": 4,
 "nbformat_minor": 2
}
