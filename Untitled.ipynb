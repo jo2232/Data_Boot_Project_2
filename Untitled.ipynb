{
 "cells": [
  {
   "cell_type": "code",
   "execution_count": 3,
   "metadata": {},
   "outputs": [
    {
     "ename": "SyntaxError",
     "evalue": "invalid syntax (<ipython-input-3-1e1771474f3a>, line 61)",
     "output_type": "error",
     "traceback": [
      "\u001b[1;36m  File \u001b[1;32m\"<ipython-input-3-1e1771474f3a>\"\u001b[1;36m, line \u001b[1;32m61\u001b[0m\n\u001b[1;33m    article_dict['link'].append(links.[i])\u001b[0m\n\u001b[1;37m                                      ^\u001b[0m\n\u001b[1;31mSyntaxError\u001b[0m\u001b[1;31m:\u001b[0m invalid syntax\n"
     ]
    }
   ],
   "source": [
    "\n",
    "# coding: utf-8\n",
    "\n",
    "# In[1]:\n",
    "\n",
    "\n",
    "import time\n",
    "from splinter import Browser\n",
    "from bs4 import BeautifulSoup\n",
    "from selenium import webdriver\n",
    "from sys import platform\n",
    "\n",
    "\n",
    "# In[2]:\n",
    "\n",
    "\n",
    "def init_browser():\n",
    "    if platform == \"darwin\":\n",
    "        executable_path = {\"executable_path\": \"/usr/local/bin/chromedriver\"}\n",
    "    else:\n",
    "        executable_path = {'executable_path': 'chromedriver.exe'}\n",
    "    return Browser(\"chrome\", **executable_path, headless=False)\n",
    "\n",
    "\n",
    "# In[21]:\n",
    "\n",
    "\n",
    "\n",
    "browser = init_browser()\n",
    "    \n",
    "article_list = []\n",
    "    \n",
    "url = 'https://www.cnn.com/'\n",
    "browser.visit(url)\n",
    "html = browser.html\n",
    "soup = BeautifulSoup(html, 'html.parser') \n",
    "\n",
    "input_field = browser.find_by_css('#searchInputFooter')\n",
    "input_field[0].fill('dallas')\n",
    "search_button = browser.find_by_xpath('/html/body/footer/div[1]/div[2]/form/button').first\n",
    "search_button.click()\n",
    "time.sleep(7)\n",
    "\n",
    "html = browser.html\n",
    "# create soup object from html\n",
    "article_soup = BeautifulSoup(html, \"html.parser\")\n",
    "articles = article_soup.find_all(class_=\"cnn-search__result--article\")\n",
    "for headline in articles:\n",
    "    title = headline.find(\"h3\", class_=\"cnn-search__result-headline\")\n",
    "    link = title.find(\"a\")\n",
    "    article_list.append(link)\n",
    "    \n",
    "links = [a.get('href') for a in article_list]\n",
    "article_headlines = [b.get_text() for b in article_list]\n",
    "print(links)\n",
    "print(article_headlines)\n",
    "\n",
    "article_dict = {'headline':[], 'link':[]}\n",
    "for i in range(0,len(links)):\n",
    "    article_dict['headline'].append(article_headlines[i])\n",
    "    article_dict['link'].append(links.[i])\n"
   ]
  },
  {
   "cell_type": "code",
   "execution_count": 16,
   "metadata": {},
   "outputs": [
    {
     "ename": "TypeError",
     "evalue": "unhashable type: 'list'",
     "output_type": "error",
     "traceback": [
      "\u001b[1;31m---------------------------------------------------------------------------\u001b[0m",
      "\u001b[1;31mTypeError\u001b[0m                                 Traceback (most recent call last)",
      "\u001b[1;32m<ipython-input-16-4cd6e57a3a76>\u001b[0m in \u001b[0;36m<module>\u001b[1;34m()\u001b[0m\n\u001b[0;32m      1\u001b[0m idk = {'headline',article_headlines,\n\u001b[1;32m----> 2\u001b[1;33m                 'link',links}\n\u001b[0m\u001b[0;32m      3\u001b[0m \u001b[0midk\u001b[0m\u001b[1;33m\u001b[0m\u001b[0m\n",
      "\u001b[1;31mTypeError\u001b[0m: unhashable type: 'list'"
     ]
    }
   ],
   "source": [
    "idk = {'headline',article_headlines,\n",
    "                'link',links}\n",
    "idk"
   ]
  },
  {
   "cell_type": "code",
   "execution_count": 11,
   "metadata": {},
   "outputs": [
    {
     "data": {
      "text/plain": [
       "2"
      ]
     },
     "execution_count": 11,
     "metadata": {},
     "output_type": "execute_result"
    }
   ],
   "source": [
    "len(article_dict['data'])"
   ]
  },
  {
   "cell_type": "code",
   "execution_count": 17,
   "metadata": {},
   "outputs": [],
   "source": [
    "cnn_data = dict(zip(article_headlines, links))"
   ]
  },
  {
   "cell_type": "code",
   "execution_count": 18,
   "metadata": {},
   "outputs": [
    {
     "data": {
      "text/plain": [
       "{'#2020Vision: The Sharpton primary; Sanders hits media coverage of Trump scandals; Merkley, Murphy team up on health care bill': '//www.cnn.com/2018/04/22/politics/2020-vision-al-sharpton-primary/index.html',\n",
       " '22 minutes of terror': '//www.cnn.com/2018/04/22/us/southwest-1380-emergency-landing-moments/index.html',\n",
       " 'Amazon now delivers to the trunk of your car': 'http://money.cnn.com/2018/04/24/technology/amazon-key-in-car-delivery-review/index.html',\n",
       " 'FAA orders jet engine inspections after fatal Southwest incident': '//www.cnn.com/2018/04/20/us/faa-orders-jet-engine-inspections/index.html',\n",
       " 'Man arrested after 2 Dallas police officers wounded in shooting': '//www.cnn.com/2018/04/24/us/dallas-cops-shot/index.html',\n",
       " 'Schumer demands FAA step up maintenance inspections after fatal accidents': '//www.cnn.com/2018/04/22/politics/schumer-faa-maintenance-inspections/index.html',\n",
       " 'Some Southwest flights canceled due to engine inspections': '//www.cnn.com/2018/04/23/us/southwest-flight-disruption/index.html',\n",
       " 'The story behind that viral photo of the past 4 presidents all in the same place': '//www.cnn.com/2018/04/23/politics/presidents-picture-barbara-bush-funeral-photographer/index.html',\n",
       " 'US, European aviation authorities order inspections after fatal Southwest engine failure': '//www.cnn.com/2018/04/21/world/jet-engine-inspections-ordered-intl/index.html'}"
      ]
     },
     "execution_count": 18,
     "metadata": {},
     "output_type": "execute_result"
    }
   ],
   "source": [
    "test"
   ]
  },
  {
   "cell_type": "code",
   "execution_count": null,
   "metadata": {
    "collapsed": true
   },
   "outputs": [],
   "source": []
  }
 ],
 "metadata": {
  "kernelspec": {
   "display_name": "Python 3",
   "language": "python",
   "name": "python3"
  },
  "language_info": {
   "codemirror_mode": {
    "name": "ipython",
    "version": 3
   },
   "file_extension": ".py",
   "mimetype": "text/x-python",
   "name": "python",
   "nbconvert_exporter": "python",
   "pygments_lexer": "ipython3",
   "version": "3.6.3"
  }
 },
 "nbformat": 4,
 "nbformat_minor": 2
}
